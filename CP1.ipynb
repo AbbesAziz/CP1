{
 "cells": [
  {
   "cell_type": "code",
   "execution_count": 2,
   "metadata": {
    "scrolled": true
   },
   "outputs": [
    {
     "name": "stdout",
     "output_type": "stream",
     "text": [
      "Write your first name : Aziz\n",
      "Write your last name : Abbes\n",
      "Abbes Aziz\n"
     ]
    }
   ],
   "source": [
    "firstname = input(\"Write your first name : \")\n",
    "lastname = input(\"Write your last name : \")\n",
    "print (lastname + \" \" + firstname)"
   ]
  },
  {
   "cell_type": "code",
   "execution_count": 7,
   "metadata": {
    "scrolled": true
   },
   "outputs": [
    {
     "name": "stdout",
     "output_type": "stream",
     "text": [
      "Write a Number : 7\n",
      "861\n"
     ]
    }
   ],
   "source": [
    "N = str(input(\"Write a Number : \"))\n",
    "NN = N*2\n",
    "NNN = N*3\n",
    "print (int(N)+int(NN)+int(NNN))"
   ]
  },
  {
   "cell_type": "code",
   "execution_count": 9,
   "metadata": {
    "scrolled": true
   },
   "outputs": [
    {
     "name": "stdout",
     "output_type": "stream",
     "text": [
      "Write a number : 12\n",
      "This is an even number\n"
     ]
    }
   ],
   "source": [
    "Num = int(input(\"Write a number : \"))\n",
    "Res = Num % 2\n",
    "if Res > 0 :\n",
    "   print(\"This is an odd number\")\n",
    "else:\n",
    "   print (\"This is an even number\")"
   ]
  },
  {
   "cell_type": "code",
   "execution_count": 12,
   "metadata": {},
   "outputs": [
    {
     "name": "stdout",
     "output_type": "stream",
     "text": [
      "2002 , 2009 , 2016 , 2023 , 2037 , 2044 , 2051 , 2058 , 2072 , 2079 , 2086 , 2093 , 2107 , 2114 , 2121 , 2128 , 2142 , 2149 , 2156 , 2163 , 2177 , 2184 , 2191 , 2198 , 2212 , 2219 , 2226 , 2233 , 2247 , 2254 , 2261 , 2268 , 2282 , 2289 , 2296 , 2303 , 2317 , 2324 , 2331 , 2338 , 2352 , 2359 , 2366 , 2373 , 2387 , 2394 , 2401 , 2408 , 2422 , 2429 , 2436 , 2443 , 2457 , 2464 , 2471 , 2478 , 2492 , 2499 , 2506 , 2513 , 2527 , 2534 , 2541 , 2548 , 2562 , 2569 , 2576 , 2583 , 2597 , 2604 , 2611 , 2618 , 2632 , 2639 , 2646 , 2653 , 2667 , 2674 , 2681 , 2688 , 2702 , 2709 , 2716 , 2723 , 2737 , 2744 , 2751 , 2758 , 2772 , 2779 , 2786 , 2793 , 2807 , 2814 , 2821 , 2828 , 2842 , 2849 , 2856 , 2863 , 2877 , 2884 , 2891 , 2898 , 2912 , 2919 , 2926 , 2933 , 2947 , 2954 , 2961 , 2968 , 2982 , 2989 , 2996 , 3003 , 3017 , 3024 , 3031 , 3038 , 3052 , 3059 , 3066 , 3073 , 3087 , 3094 , 3101 , 3108 , 3122 , 3129 , 3136 , 3143 , 3157 , 3164 , 3171 , 3178 , 3192 , 3199 , "
     ]
    }
   ],
   "source": [
    "for x in range(2000,3200):\n",
    "     if (x%7==0) and (x%5>0):\n",
    "            print(x,end=\" , \")\n"
   ]
  },
  {
   "cell_type": "code",
   "execution_count": 9,
   "metadata": {},
   "outputs": [
    {
     "name": "stdout",
     "output_type": "stream",
     "text": [
      "Write a number : 8\n",
      "40320\n"
     ]
    }
   ],
   "source": [
    "n = input(\"Write a number : \") \n",
    "fact=1\n",
    "for i in range(1,int(n)+1):\n",
    "    fact=fact*i\n",
    "print(fact)\n",
    "    \n",
    "    "
   ]
  },
  {
   "cell_type": "code",
   "execution_count": 13,
   "metadata": {},
   "outputs": [
    {
     "name": "stdout",
     "output_type": "stream",
     "text": [
      "Write a string : hello aziz\n",
      " hloai\n"
     ]
    }
   ],
   "source": [
    "str1 = input(\"Write a string : \")\n",
    "str2 = (\" \")\n",
    "for i in range(len(str1)) :\n",
    "     if i % 2 == 0 :\n",
    "        str2 = str2 + str1[i]\n",
    "print (str2)"
   ]
  },
  {
   "cell_type": "code",
   "execution_count": 14,
   "metadata": {},
   "outputs": [
    {
     "name": "stdout",
     "output_type": "stream",
     "text": [
      "Write the price : 500\n",
      "250.0\n"
     ]
    }
   ],
   "source": [
    "X = float(input(\"Write the price : \"))\n",
    "if (X>=500) :\n",
    "    X= X*0.5\n",
    "elif (X>=200) and (X<500) :\n",
    "    X= X*0.3\n",
    "else :\n",
    "    X= X*0.1\n",
    "print(X)"
   ]
  },
  {
   "cell_type": "code",
   "execution_count": null,
   "metadata": {},
   "outputs": [],
   "source": [
    "Year = int(input(\"Enter year:\")) \n",
    "if (Year % 2) ==0 :\n",
    "    print(\"It's a leap year\")\n",
    "else : \n",
    "    print(\"It's not a leap year\")"
   ]
  }
 ],
 "metadata": {
  "kernelspec": {
   "display_name": "Python 3",
   "language": "python",
   "name": "python3"
  },
  "language_info": {
   "codemirror_mode": {
    "name": "ipython",
    "version": 3
   },
   "file_extension": ".py",
   "mimetype": "text/x-python",
   "name": "python",
   "nbconvert_exporter": "python",
   "pygments_lexer": "ipython3",
   "version": "3.8.5"
  }
 },
 "nbformat": 4,
 "nbformat_minor": 4
}
